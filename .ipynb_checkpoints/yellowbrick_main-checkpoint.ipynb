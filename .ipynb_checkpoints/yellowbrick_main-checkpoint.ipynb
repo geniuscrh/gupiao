{
 "cells": [
  {
   "cell_type": "code",
   "execution_count": 22,
   "metadata": {},
   "outputs": [],
   "source": [
    "import pandas as pd\n",
    "from yellowbrick.features import RadViz\n",
    "import matplotlib as plt\n",
    "\n",
    "plt.rcParams['font.sans-serif']=['SimHei']"
   ]
  },
  {
   "cell_type": "code",
   "execution_count": 2,
   "metadata": {},
   "outputs": [
    {
     "data": {
      "text/html": [
       "<div>\n",
       "<style scoped>\n",
       "    .dataframe tbody tr th:only-of-type {\n",
       "        vertical-align: middle;\n",
       "    }\n",
       "\n",
       "    .dataframe tbody tr th {\n",
       "        vertical-align: top;\n",
       "    }\n",
       "\n",
       "    .dataframe thead th {\n",
       "        text-align: right;\n",
       "    }\n",
       "</style>\n",
       "<table border=\"1\" class=\"dataframe\">\n",
       "  <thead>\n",
       "    <tr style=\"text-align: right;\">\n",
       "      <th></th>\n",
       "      <th>涨幅_x</th>\n",
       "      <th>振幅_x</th>\n",
       "      <th>总手</th>\n",
       "      <th>金额</th>\n",
       "      <th>换手%</th>\n",
       "      <th>成交次数</th>\n",
       "      <th>涨跌</th>\n",
       "      <th>涨幅_y</th>\n",
       "      <th>振幅_y</th>\n",
       "      <th>总手(万)</th>\n",
       "      <th>金额(亿)</th>\n",
       "      <th>涨跌情况</th>\n",
       "    </tr>\n",
       "  </thead>\n",
       "  <tbody>\n",
       "    <tr>\n",
       "      <td>0</td>\n",
       "      <td>3.57</td>\n",
       "      <td>3.26</td>\n",
       "      <td>6404555</td>\n",
       "      <td>42616690</td>\n",
       "      <td>1.060</td>\n",
       "      <td>4344</td>\n",
       "      <td>66.61</td>\n",
       "      <td>2.28</td>\n",
       "      <td>2.010</td>\n",
       "      <td>31319801000</td>\n",
       "      <td>367014000000</td>\n",
       "      <td>0</td>\n",
       "    </tr>\n",
       "    <tr>\n",
       "      <td>1</td>\n",
       "      <td>-0.46</td>\n",
       "      <td>1.39</td>\n",
       "      <td>3217617</td>\n",
       "      <td>20767201</td>\n",
       "      <td>0.530</td>\n",
       "      <td>2041</td>\n",
       "      <td>10.93</td>\n",
       "      <td>0.38</td>\n",
       "      <td>0.942</td>\n",
       "      <td>25065063000</td>\n",
       "      <td>308080000000</td>\n",
       "      <td>1</td>\n",
       "    </tr>\n",
       "    <tr>\n",
       "      <td>2</td>\n",
       "      <td>-0.15</td>\n",
       "      <td>2.16</td>\n",
       "      <td>5006168</td>\n",
       "      <td>32659661</td>\n",
       "      <td>0.825</td>\n",
       "      <td>3481</td>\n",
       "      <td>-20.83</td>\n",
       "      <td>-0.71</td>\n",
       "      <td>1.170</td>\n",
       "      <td>27480484000</td>\n",
       "      <td>334526000000</td>\n",
       "      <td>0</td>\n",
       "    </tr>\n",
       "    <tr>\n",
       "      <td>3</td>\n",
       "      <td>0.31</td>\n",
       "      <td>2.16</td>\n",
       "      <td>4173116</td>\n",
       "      <td>27004679</td>\n",
       "      <td>0.688</td>\n",
       "      <td>2768</td>\n",
       "      <td>25.22</td>\n",
       "      <td>0.87</td>\n",
       "      <td>1.190</td>\n",
       "      <td>24873343000</td>\n",
       "      <td>297534000000</td>\n",
       "      <td>1</td>\n",
       "    </tr>\n",
       "    <tr>\n",
       "      <td>4</td>\n",
       "      <td>0.94</td>\n",
       "      <td>3.43</td>\n",
       "      <td>4967542</td>\n",
       "      <td>32223573</td>\n",
       "      <td>0.819</td>\n",
       "      <td>3328</td>\n",
       "      <td>11.19</td>\n",
       "      <td>0.39</td>\n",
       "      <td>1.090</td>\n",
       "      <td>26916834000</td>\n",
       "      <td>302957000000</td>\n",
       "      <td>0</td>\n",
       "    </tr>\n",
       "  </tbody>\n",
       "</table>\n",
       "</div>"
      ],
      "text/plain": [
       "   涨幅_x  振幅_x       总手        金额    换手%  成交次数     涨跌  涨幅_y   振幅_y  \\\n",
       "0  3.57  3.26  6404555  42616690  1.060  4344  66.61  2.28  2.010   \n",
       "1 -0.46  1.39  3217617  20767201  0.530  2041  10.93  0.38  0.942   \n",
       "2 -0.15  2.16  5006168  32659661  0.825  3481 -20.83 -0.71  1.170   \n",
       "3  0.31  2.16  4173116  27004679  0.688  2768  25.22  0.87  1.190   \n",
       "4  0.94  3.43  4967542  32223573  0.819  3328  11.19  0.39  1.090   \n",
       "\n",
       "         总手(万)         金额(亿)  涨跌情况  \n",
       "0  31319801000  367014000000     0  \n",
       "1  25065063000  308080000000     1  \n",
       "2  27480484000  334526000000     0  \n",
       "3  24873343000  297534000000     1  \n",
       "4  26916834000  302957000000     0  "
      ]
     },
     "execution_count": 2,
     "metadata": {},
     "output_type": "execute_result"
    }
   ],
   "source": [
    "data=pd.read_excel(\"data/temp.xlsx\")\n",
    "data_cols=[\"涨幅_x\",\"振幅_x\",\"总手\",\"金额\",\"换手%\",\"成交次数\",\"涨跌\",\"涨幅_y\",\"振幅_y\",\"总手(万)\",\"金额(亿)\",\"涨跌情况\"]\n",
    "data=data[data_cols]\n",
    "data.head()"
   ]
  },
  {
   "cell_type": "code",
   "execution_count": 25,
   "metadata": {},
   "outputs": [
    {
     "ename": "SyntaxError",
     "evalue": "invalid syntax (<ipython-input-25-792e1c260550>, line 2)",
     "output_type": "error",
     "traceback": [
      "\u001b[1;36m  File \u001b[1;32m\"<ipython-input-25-792e1c260550>\"\u001b[1;36m, line \u001b[1;32m2\u001b[0m\n\u001b[1;33m    features = [\"涨幅_x\",\"振幅_x\",\"换手%\":\"换手率_x\",\"涨跌\",\"涨幅_y\",\"振幅_y\"]\u001b[0m\n\u001b[1;37m                                   ^\u001b[0m\n\u001b[1;31mSyntaxError\u001b[0m\u001b[1;31m:\u001b[0m invalid syntax\n"
     ]
    }
   ],
   "source": [
    "#features = [\"涨幅_x\",\"振幅_x\",\"总手\",\"金额\",\"换手%\",\"成交次数\",\"涨跌\",\"涨幅_y\",\"振幅_y\",\"总手(万)\",\"金额(亿)\"]\n",
    "features = [\"涨幅_x\",\"振幅_x\",\"换手%\",\"涨跌\",\"涨幅_y\",\"振幅_y\"]\n",
    "classes=[\"up\",\"down\"]\n",
    "X = data[features]\n",
    "X=pd.DataFrame(X)\n",
    "\n",
    "y = data[\"涨跌情况\"]\n",
    "\n",
    "visualizer = RadViz(classes=classes, features=features)\n",
    "\n",
    "visualizer.fit(X, y)      # Fit the data to the visualizer\n",
    "visualizer.transform(X)   # Transform the data\n",
    "visualizer.poof()         # Draw/show/poof the data"
   ]
  },
  {
   "cell_type": "code",
   "execution_count": 24,
   "metadata": {},
   "outputs": [
    {
     "name": "stderr",
     "output_type": "stream",
     "text": [
      "h:\\ProgramData\\Anaconda3\\lib\\site-packages\\scipy\\stats\\morestats.py:1660: UserWarning: p-value may not be accurate for N > 5000.\n",
      "  warnings.warn(\"p-value may not be accurate for N > 5000.\")\n",
      "h:\\ProgramData\\Anaconda3\\lib\\site-packages\\yellowbrick\\features\\rankd.py:216: YellowbrickWarning: RankD plots may be clipped when using matplotlib v3.1.1, upgrade to matplotlib v3.1.2 or later to fix the plots.\n",
      "  warnings.warn(msg, YellowbrickWarning)\n"
     ]
    },
    {
     "data": {
      "image/png": "[encoded data removed]",
      "text/plain": [
       "<Figure size 432x288 with 1 Axes>"
      ]
     },
     "metadata": {
      "needs_background": "light"
     },
     "output_type": "display_data"
    },
    {
     "data": {
      "text/plain": [
       "<matplotlib.axes._subplots.AxesSubplot at 0x15f1d848>"
      ]
     },
     "execution_count": 24,
     "metadata": {},
     "output_type": "execute_result"
    }
   ],
   "source": [
    "from yellowbrick.features import Rank1D\n",
    "visualizer = Rank1D(features=features, algorithm='shapiro')\n",
    "\n",
    "visualizer.fit(X, y)                # Fit the data to the visualizer\n",
    "visualizer.transform(X)             # Transform the data\n",
    "visualizer.poof()                   # Draw/show/poof the data"
   ]
  },
  {
   "cell_type": "code",
   "execution_count": null,
   "metadata": {},
   "outputs": [],
   "source": []
  }
 ],
 "metadata": {
  "kernelspec": {
   "display_name": "Python 3",
   "language": "python",
   "name": "python3"
  },
  "language_info": {
   "codemirror_mode": {
    "name": "ipython",
    "version": 3
   },
   "file_extension": ".py",
   "mimetype": "text/x-python",
   "name": "python",
   "nbconvert_exporter": "python",
   "pygments_lexer": "ipython3",
   "version": "3.7.4"
  }
 },
 "nbformat": 4,
 "nbformat_minor": 2
}
