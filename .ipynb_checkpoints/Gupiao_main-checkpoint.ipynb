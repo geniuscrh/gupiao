{
 "cells": [
  {
   "cell_type": "code",
   "execution_count": 7,
   "metadata": {},
   "outputs": [],
   "source": [
    "import numpy as np\n",
    "import pandas as pd"
   ]
  },
  {
   "cell_type": "code",
   "execution_count": 8,
   "metadata": {},
   "outputs": [],
   "source": [
    "#读取大盘数据\n",
    "dp_data=pd.read_excel(\"data/dapan.xlsx\")\n",
    "dp_data.rename(columns={\"涨幅%\":\"涨幅\",\"振幅%\":\"振幅\"},inplace=True)\n",
    "dp_data[\"涨幅\"]=dp_data[\"涨幅\"].replace(\"-\",0)\n",
    "dp_data[\"振幅\"]=dp_data[\"振幅\"].replace(\"-\",0)\n"
   ]
  },
  {
   "cell_type": "code",
   "execution_count": 9,
   "metadata": {},
   "outputs": [],
   "source": [
    "#读取个股数据\n",
    "gg_data=pd.read_excel(\"data/jlqc.xlsx\")\n",
    "gg_data[\"涨幅\"]=gg_data[\"涨幅\"]*100\n",
    "gg_data[\"振幅\"]=gg_data[\"振幅\"]*100\n"
   ]
  },
  {
   "cell_type": "code",
   "execution_count": 10,
   "metadata": {},
   "outputs": [],
   "source": [
    "#合并数据\n",
    "data = pd.merge(gg_data,dp_data.loc[:,:],how='left',on = '时间')\n"
   ]
  },
  {
   "cell_type": "code",
   "execution_count": 11,
   "metadata": {},
   "outputs": [
    {
     "data": {
      "text/plain": [
       "0       2.28\n",
       "1       0.38\n",
       "2      -0.71\n",
       "3       0.87\n",
       "4       0.39\n",
       "        ... \n",
       "6221    2.09\n",
       "6222    1.81\n",
       "6223   -1.53\n",
       "6224    1.09\n",
       "6225    0.00\n",
       "Name: 涨幅_y, Length: 6226, dtype: float64"
      ]
     },
     "execution_count": 11,
     "metadata": {},
     "output_type": "execute_result"
    }
   ],
   "source": [
    "#清洗无效数据\n",
    "data[\"涨幅_x\"]=data[\"涨幅_x\"].astype(\"str\")\n",
    "data.loc[data[\"涨幅_x\"].str.contains(\"--\")]\n",
    "data.loc[data[\"涨幅_x\"].str.contains(\"--\")]=0\n",
    "data[\"涨幅_x\"]=data[\"涨幅_x\"].astype(\"float64\")\n",
    "data[\"涨幅_y\"].astype(\"float64\")"
   ]
  },
  {
   "cell_type": "code",
   "execution_count": 12,
   "metadata": {},
   "outputs": [],
   "source": [
    "data[\"涨幅_核减大盘\"]=data[\"涨幅_x\"]-data[\"涨幅_y\"]\n",
    "data[\"涨跌情况\"]=[1 if x>0 else 0 for x in data[\"涨幅_核减大盘\"]]\n",
    "\n",
    "data.to_excel(\"data/temp.xlsx\")"
   ]
  },
  {
   "cell_type": "code",
   "execution_count": 2,
   "metadata": {},
   "outputs": [
    {
     "ename": "AttributeError",
     "evalue": "type object 'RadialVisualizer' has no attribute '__version__'",
     "output_type": "error",
     "traceback": [
      "\u001b[1;31m---------------------------------------------------------------------------\u001b[0m",
      "\u001b[1;31mAttributeError\u001b[0m                            Traceback (most recent call last)",
      "\u001b[1;32m<ipython-input-2-6ec961791ac6>\u001b[0m in \u001b[0;36m<module>\u001b[1;34m\u001b[0m\n\u001b[0;32m      1\u001b[0m \u001b[1;32mfrom\u001b[0m \u001b[0myellowbrick\u001b[0m\u001b[1;33m.\u001b[0m\u001b[0mfeatures\u001b[0m \u001b[1;32mimport\u001b[0m \u001b[0mRadViz\u001b[0m\u001b[1;33m\u001b[0m\u001b[1;33m\u001b[0m\u001b[0m\n\u001b[1;32m----> 2\u001b[1;33m \u001b[0mRadViz\u001b[0m\u001b[1;33m.\u001b[0m\u001b[0m__version__\u001b[0m\u001b[1;33m\u001b[0m\u001b[1;33m\u001b[0m\u001b[0m\n\u001b[0m",
      "\u001b[1;31mAttributeError\u001b[0m: type object 'RadialVisualizer' has no attribute '__version__'"
     ]
    }
   ],
   "source": [
    "\n"
   ]
  }
 ],
 "metadata": {
  "kernelspec": {
   "display_name": "Python 3",
   "language": "python",
   "name": "python3"
  },
  "language_info": {
   "codemirror_mode": {
    "name": "ipython",
    "version": 3
   },
   "file_extension": ".py",
   "mimetype": "text/x-python",
   "name": "python",
   "nbconvert_exporter": "python",
   "pygments_lexer": "ipython3",
   "version": "3.7.4"
  }
 },
 "nbformat": 4,
 "nbformat_minor": 2
}
